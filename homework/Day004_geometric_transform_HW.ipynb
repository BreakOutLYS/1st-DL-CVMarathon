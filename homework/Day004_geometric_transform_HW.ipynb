{
 "cells": [
  {
   "cell_type": "code",
   "execution_count": 16,
   "metadata": {},
   "outputs": [],
   "source": [
    "import cv2 as cv\n",
    "import time\n",
    "import numpy as np\n",
    "\n",
    "img_path = 'data/lena.png'\n",
    "img = cv2.imread(img_path)"
   ]
  },
  {
   "cell_type": "code",
   "execution_count": 17,
   "metadata": {},
   "outputs": [],
   "source": [
    "# 水平翻轉 (horizontal)\n",
    "img_hflip = img[:,::-1,:]\n",
    "\n",
    "# 垂直翻轉 (vertical)\n",
    "img_vflip = img[::-1,:,:]\n",
    "\n",
    "# 水平 + 垂直翻轉\n",
    "img_hvflip =img[::-1,::-1,:]\n",
    "\n",
    "# 組合 + 顯示圖片\n",
    "hflip = np.hstack((img, img_hflip))\n",
    "vflip = np.hstack((img_vflip, img_hvflip))\n",
    "img_flip = np.vstack((hflip, vflip))\n",
    "while True:\n",
    "    cv.imshow('flip image', img_flip)\n",
    "    k = cv.waitKey(0)\n",
    "    if k == 27:\n",
    "        cv.destroyAllWindows()\n",
    "        break"
   ]
  },
  {
   "cell_type": "code",
   "execution_count": 18,
   "metadata": {},
   "outputs": [
    {
     "name": "stdout",
     "output_type": "stream",
     "text": [
      "INTER_NEAREST zoom cost 0.0\n",
      "INTER_CUBIC zoom cost 0.0009965896606445312\n"
     ]
    }
   ],
   "source": [
    "# 將圖片縮小成原本的 20%\n",
    "img_test = cv.resize(img, None, fx=0.2, fy=0.2)\n",
    "\n",
    "# 將圖片放大為\"小圖片\"的 8 倍大 = 原圖的 1.6 倍大\n",
    "fx, fy = 8, 8\n",
    "\n",
    "# 鄰近差值 scale + 計算花費時間\n",
    "start_time = time.time()\n",
    "img_area_scale = cv.resize(img_test,None, fx=fx, fy=fy, interpolation = cv.INTER_NEAREST)\n",
    "print('INTER_NEAREST zoom cost {}'.format(time.time() - start_time))\n",
    "\n",
    "# 雙立方差補 scale + 計算花費時間\n",
    "start_time = time.time()\n",
    "img_cubic_scale = cv.resize(img_test,None, fx=fx, fy=fy, interpolation = cv.INTER_CUBIC)\n",
    "print('INTER_CUBIC zoom cost {}'.format(time.time() - start_time))\n",
    "\n",
    "# 組合 + 顯示圖片\n",
    "img_zoom = np.hstack((img_area_scale, img_cubic_scale))\n",
    "while True:\n",
    "    cv.imshow('zoom image', img_zoom)\n",
    "    k = cv.waitKey(0)\n",
    "    if k == 27:\n",
    "        cv.destroyAllWindows()\n",
    "        break"
   ]
  },
  {
   "cell_type": "code",
   "execution_count": 21,
   "metadata": {},
   "outputs": [],
   "source": [
    "# 設定 translation transformation matrix\n",
    "# x 平移 100 pixel; y 平移 50 pixel\n",
    "M = np.array([[1, 0, 100],\n",
    "              [0, 1, 50]], dtype=np.float32)\n",
    "shift_img = cv.warpAffine(img, M, (img.shape[1], img.shape[0]))\n",
    "\n",
    "# 組合 + 顯示圖片\n",
    "img_shift = np.hstack((img, shift_img))\n",
    "while True:\n",
    "    cv2.imshow('shift image', img_shift)\n",
    "    k = cv2.waitKey(0)\n",
    "    if k == 27:\n",
    "        cv2.destroyAllWindows()\n",
    "        break"
   ]
  }
 ],
 "metadata": {
  "kernelspec": {
   "display_name": "Python 3",
   "language": "python",
   "name": "python3"
  },
  "language_info": {
   "codemirror_mode": {
    "name": "ipython",
    "version": 3
   },
   "file_extension": ".py",
   "mimetype": "text/x-python",
   "name": "python",
   "nbconvert_exporter": "python",
   "pygments_lexer": "ipython3",
   "version": "3.7.4"
  }
 },
 "nbformat": 4,
 "nbformat_minor": 2
}
