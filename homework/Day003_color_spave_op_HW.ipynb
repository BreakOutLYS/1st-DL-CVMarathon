{
 "cells": [
  {
   "cell_type": "code",
   "execution_count": 57,
   "metadata": {},
   "outputs": [],
   "source": [
    "import numpy as np\n",
    "import cv2 as cv\n",
    "\n",
    "img = cv.imread('lena.png',cv.IMREAD_COLOR)\n",
    "\n"
   ]
  },
  {
   "cell_type": "code",
   "execution_count": 58,
   "metadata": {},
   "outputs": [
    {
     "data": {
      "text/plain": [
       "-1"
      ]
     },
     "execution_count": 58,
     "metadata": {},
     "output_type": "execute_result"
    }
   ],
   "source": [
    "\n",
    "img_HSV = cv.cvtColor(img,cv.COLOR_BGR2HSV)\n",
    "change_percentage = 0.2\n",
    "\n",
    "img_HSV_down = img_HSV.astype('float32')\n",
    "img_HSV_down[:,:,1] = img_HSV_down[:,:,1]/255 - change_percentage\n",
    "img_HSV_down[img_HSV_down[:,:,1] < 0] = 0\n",
    "img_HSV_down[:,:,1] = img_HSV_down[:,:,1]*255\n",
    "img_HSV_down = img_HSV_down.astype('uint8')\n",
    "img_HSV_down = cv.cvtColor(img_HSV_down,cv.COLOR_HSV2BGR)\n",
    "\n",
    "img_HSV_up = img_HSV.astype('float32')\n",
    "img_HSV_up[:,:,1] = img_HSV_up[:,:,1]/255 + change_percentage\n",
    "img_HSV_up[img_HSV_up[:,:,1] > 1] = 1\n",
    "img_HSV_up[:,:,1] = img_HSV_up[:,:,1]*255\n",
    "img_HSV_up = img_HSV_up.astype('uint8')\n",
    "img_HSV_up = cv.cvtColor(img_HSV_up,cv.COLOR_HSV2BGR)\n",
    "\n",
    "img_HSV_change = np.hstack((img,img_HSV_down,img_HSV_up))\n",
    "cv.imshow('change saturation',img_HSV_change)\n",
    "cv.waitKey(0)\n",
    "\n"
   ]
  },
  {
   "cell_type": "code",
   "execution_count": 59,
   "metadata": {},
   "outputs": [
    {
     "data": {
      "text/plain": [
       "-1"
      ]
     },
     "execution_count": 59,
     "metadata": {},
     "output_type": "execute_result"
    }
   ],
   "source": [
    "##case1\n",
    "b,g,r = cv.split(img)\n",
    "red = cv.equalizeHist(r)\n",
    "green = cv.equalizeHist(g)\n",
    "blue = cv.equalizeHist(b)\n",
    "img_bgr_equal = cv.merge((blue,green,red))\n",
    "\n",
    "##case2           \n",
    "img_HSV_equal = cv.cvtColor(img,cv.COLOR_BGR2HSV)\n",
    "h,s,v = cv.split(img_HSV_equal)\n",
    "v = cv.equalizeHist(v)\n",
    "img_HSV_equal = cv.merge((h,s,v))\n",
    "\n",
    "\n",
    "\n",
    "img_bgr_equalHist = np.hstack((img, img_bgr_equal,img_HSV_equal))\n",
    "cv.imshow('BGR equal histogram', img_bgr_equalHist)\n",
    "cv.waitKey(0)"
   ]
  },
  {
   "cell_type": "code",
   "execution_count": 61,
   "metadata": {},
   "outputs": [
    {
     "data": {
      "text/plain": [
       "-1"
      ]
     },
     "execution_count": 61,
     "metadata": {},
     "output_type": "execute_result"
    }
   ],
   "source": [
    "add_contrast = cv.convertScaleAbs(img, alpha=2.0, beta=0)\n",
    "add_lighness = cv.convertScaleAbs(img, alpha=1.0, beta=50)\n",
    "\n",
    "\n",
    "img_contrast_light = np.hstack((img, add_contrast, add_lighness))\n",
    "cv.imshow('BGR equal histogram', img_contrast_light)\n",
    "cv.waitKey(0)"
   ]
  },
  {
   "cell_type": "code",
   "execution_count": null,
   "metadata": {},
   "outputs": [],
   "source": []
  }
 ],
 "metadata": {
  "kernelspec": {
   "display_name": "Python 3",
   "language": "python",
   "name": "python3"
  },
  "language_info": {
   "codemirror_mode": {
    "name": "ipython",
    "version": 3
   },
   "file_extension": ".py",
   "mimetype": "text/x-python",
   "name": "python",
   "nbconvert_exporter": "python",
   "pygments_lexer": "ipython3",
   "version": "3.7.4"
  }
 },
 "nbformat": 4,
 "nbformat_minor": 2
}
