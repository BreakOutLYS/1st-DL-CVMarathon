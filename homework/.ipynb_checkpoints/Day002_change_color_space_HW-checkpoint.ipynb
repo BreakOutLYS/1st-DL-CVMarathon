{
 "cells": [
  {
   "cell_type": "code",
   "execution_count": 9,
   "metadata": {},
   "outputs": [
    {
     "data": {
      "text/plain": [
       "-1"
      ]
     },
     "execution_count": 9,
     "metadata": {},
     "output_type": "execute_result"
    }
   ],
   "source": [
    "import numpy as np\n",
    "import cv2 as cv\n",
    "\n",
    "img_RGB = cv.imread('data/lena.png')\n",
    "img_HSV = cv.cvtColor(img_RGB,cv.COLOR_BGR2HSV)\n",
    "img_HLS = cv.cvtColor(img_RGB,cv.COLOR_BGR2HLS)\n",
    "img_LAB = cv.cvtColor(img_RGB,cv.COLOR_BGR2LAB)\n",
    "cv.imshow('RGB',img_RGB)\n",
    "cv.imshow('HSV',img_HSV)\n",
    "cv.imshow('HSL',img_HLS)\n",
    "cv.imshow('LAB',img_LAB)\n",
    "cv.waitKey(0)"
   ]
  },
  {
   "cell_type": "code",
   "execution_count": null,
   "metadata": {},
   "outputs": [],
   "source": []
  }
 ],
 "metadata": {
  "kernelspec": {
   "display_name": "Python 3",
   "language": "python",
   "name": "python3"
  },
  "language_info": {
   "codemirror_mode": {
    "name": "ipython",
    "version": 3
   },
   "file_extension": ".py",
   "mimetype": "text/x-python",
   "name": "python",
   "nbconvert_exporter": "python",
   "pygments_lexer": "ipython3",
   "version": "3.7.4"
  }
 },
 "nbformat": 4,
 "nbformat_minor": 2
}
