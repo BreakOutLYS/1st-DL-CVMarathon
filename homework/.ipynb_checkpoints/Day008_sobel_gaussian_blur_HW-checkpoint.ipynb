{
 "cells": [
  {
   "cell_type": "code",
   "execution_count": 37,
   "metadata": {},
   "outputs": [],
   "source": [
    "import cv2\n",
    "import numpy as np\n",
    "\n",
    "img = cv2.imread('data/lena.png')"
   ]
  },
  {
   "cell_type": "markdown",
   "metadata": {},
   "source": [
    "#### 模糊"
   ]
  },
  {
   "cell_type": "code",
   "execution_count": 41,
   "metadata": {},
   "outputs": [],
   "source": [
    "img_Blur = img.copy()\n",
    "### (5,5) meaning filter size\n",
    "img_Blur = cv2.GaussianBlur(img_Blur,(5,5),0)\n",
    "img_Blur = cv2.GaussianBlur(img_Blur,(5,5),0)\n",
    "img_Blur = cv2.GaussianBlur(img_Blur,(5,5),0)\n",
    "\n",
    "img_show = np.hstack((img,img_Blur))\n",
    "\n",
    "while(True):\n",
    "    cv2.imshow(\"GaussianBlur\",img_show)\n",
    "    k = cv2.waitKey(0)\n",
    "    if k == 27:\n",
    "        cv2.destroyAllWindows()\n",
    "        break"
   ]
  },
  {
   "cell_type": "markdown",
   "metadata": {},
   "source": [
    "##### 邊緣檢測\n",
    "組合 x-axis, y-axis 的影像合成"
   ]
  },
  {
   "cell_type": "code",
   "execution_count": 39,
   "metadata": {},
   "outputs": [],
   "source": [
    "img_grey = cv2.cvtColor(img, cv2.COLOR_BGR2GRAY)\n",
    "\n",
    "# 對 x 方向做 Sobel 邊緣檢測\n",
    "img_sobel_x = cv2.Sobel(img_grey, cv2.CV_16S, dx=1, dy=0, ksize=3)\n",
    "img_sobel_x = cv2.convertScaleAbs(img_sobel_x)\n",
    "\n",
    "# 對 y 方向做 Sobel 邊緣檢測\n",
    "img_sobel_y = cv2.Sobel(img_grey, cv2.CV_16S, dx=0, dy=1, ksize=3)\n",
    "img_sobel_y = cv2.convertScaleAbs(img_sobel_y)\n",
    "\n",
    "# x, y 方向的邊緣檢測後的圖各以一半的全重進行合成\n",
    "img_sobel_combine = cv2.addWeighted(img_sobel_x, 0.5, img_sobel_y, 0.5, 0)\n",
    "\n",
    "#　組合 + 顯示圖片\n",
    "img_show = np.hstack((img_sobel_x, img_sobel_y, img_sobel_combine))\n",
    "while True:\n",
    "    cv2.imshow('Edge Detection', img_show)\n",
    "    k = cv2.waitKey(0)\n",
    "    if k == 27:\n",
    "        cv2.destroyAllWindows()\n",
    "        break"
   ]
  },
  {
   "cell_type": "markdown",
   "metadata": {},
   "source": [
    "## 邊緣檢測\n",
    "比較 Sobel 如果在 uint8 的情況下做會 overflow 的狀況"
   ]
  },
  {
   "cell_type": "code",
   "execution_count": 40,
   "metadata": {},
   "outputs": [],
   "source": [
    "img_sobel_x_uint8 = cv2.Sobel(img_grey,-1,dx=1, dy=0, ksize=3)\n",
    "img_sobel_x_uint8 = cv2.convertScaleAbs(img_sobel_x_uint8)\n",
    "\n",
    "img_sobel_y_uint8 = cv2.Sobel(img_grey,-1,dx=0, dy=1, ksize=3)\n",
    "img_sobel_y_uint8 = cv2.convertScaleAbs(img_sobel_y_uint8)\n",
    "\n",
    "img_soble_combine_uint8 = cv2.addWeighted(img_sobel_x_uint8, 0.5, img_sobel_y_uint8, 0.5, 0)\n",
    "\n",
    "img_show_overflow = np.hstack((img_sobel_x_uint8,img_sobel_y_uint8,img_soble_combine_uint8))\n",
    "\n",
    "while True:\n",
    "    cv2.imshow('Edge Detection', img_show)\n",
    "    cv2.imshow('Edge Detection Overflow', img_show_overflow)\n",
    "    k = cv2.waitKey(0)\n",
    "    if k == 27:\n",
    "        cv2.destroyAllWindows()\n",
    "        break"
   ]
  },
  {
   "cell_type": "code",
   "execution_count": null,
   "metadata": {},
   "outputs": [],
   "source": []
  }
 ],
 "metadata": {
  "kernelspec": {
   "display_name": "Python 3",
   "language": "python",
   "name": "python3"
  },
  "language_info": {
   "codemirror_mode": {
    "name": "ipython",
    "version": 3
   },
   "file_extension": ".py",
   "mimetype": "text/x-python",
   "name": "python",
   "nbconvert_exporter": "python",
   "pygments_lexer": "ipython3",
   "version": "3.7.4"
  }
 },
 "nbformat": 4,
 "nbformat_minor": 2
}
