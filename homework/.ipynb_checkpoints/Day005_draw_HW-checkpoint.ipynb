{
 "cells": [
  {
   "cell_type": "code",
   "execution_count": 82,
   "metadata": {},
   "outputs": [],
   "source": [
    "import numpy as np\n",
    "import cv2 as cv\n",
    "\n",
    "img_sol1 = cv.imread(\"data/lena.png\")\n",
    "\n",
    "## solution 1\n",
    "point1 = (60, 40)\n",
    "point2 = (420, 510)\n",
    "\n",
    "img_hsv = cv.cvtColor(img_sol1, cv.COLOR_BGR2HSV)\n",
    "img_hsv[..., -1] = cv.equalizeHist(img_hsv[..., -1])\n",
    "img_hsv_equal = cv.cvtColor(img_hsv, cv.COLOR_HSV2BGR)\n",
    "\n",
    "\n",
    "cv.rectangle(img_hsv_equal, point1, point2, (0, 0, 255), 3)\n",
    "\n",
    "img_hflip = img_hsv_equal[:,::-1,:]\n",
    "\n",
    "img_resize = cv.resize(img_hflip,None, fx=0.5, fy=0.5)\n",
    "\n",
    "\n",
    "while True:\n",
    "    \n",
    "    cv.imshow('image',img_resize)\n",
    "    k = cv.waitKey(0)\n",
    "    if k == 27:\n",
    "        cv.destroyAllWindows()\n",
    "        break"
   ]
  },
  {
   "cell_type": "code",
   "execution_count": 83,
   "metadata": {},
   "outputs": [
    {
     "name": "stdout",
     "output_type": "stream",
     "text": [
      "origin point1=(420, 40), origin point2=(60, 510)\n",
      "resize point1=(210, 20), resize point2=(30, 255)\n"
     ]
    }
   ],
   "source": [
    "img_sol2 = img_sol1.copy()\n",
    "\n",
    "\n",
    "img_hsv = cv.cvtColor(img_sol2, cv.COLOR_BGR2HSV)\n",
    "img_hsv[..., -1] = cv.equalizeHist(img_hsv[..., -1])\n",
    "img_hsv_equal = cv.cvtColor(img_hsv, cv.COLOR_HSV2BGR)\n",
    "img_hflip = img_hsv_equal[:,::-1,:]\n",
    "\n",
    "# 透過四則運算計算鏡像後位置\n",
    "# 確保點的位置一樣是左上跟右下，所以交換鏡像後的 x 座標 (y 座標做水平鏡像後位置不變)\n",
    "point1 = (420, 40)\n",
    "point2 = (60, 510)\n",
    "\n",
    "\"\"\"\n",
    "縮放處理 (0.5 倍)\n",
    "\"\"\"\n",
    "fx = 0.5\n",
    "fy = 0.5\n",
    "resize_col = int(img_hflip.shape[1]*fx)\n",
    "resize_row = int(img_hflip.shape[0]*fy)\n",
    "\n",
    "# 建構 scale matrix\n",
    "M_Scale = np.array([[fx,0,0],\n",
    "                   [0,fy,0]],dtype=np.float32)\n",
    "img_final = cv.warpAffine(img_hflip,M_Scale,(resize_col,resize_row))\n",
    "\n",
    "# 把左上跟右下轉為矩陣型式\n",
    "bbox = np.array((point1, point2), dtype=np.float32)\n",
    "#print('M_scale.shape={}, bbox.shape={}'.format(M_scale.shape, bbox.shape))\n",
    "\n",
    "# 做矩陣乘法可以使用 `np.dot`, 為了做矩陣乘法, M_scale 需要做轉置之後才能相乘\n",
    "homo_coor_result = np.dot(M_scale.T, bbox)\n",
    "homo_coor_result = homo_coor_result.astype('uint8')\n",
    "#print(homo_coor_result)\n",
    "scale_point1 = tuple(homo_coor_result[0])\n",
    "scale_point2 = tuple(homo_coor_result[1])\n",
    "print('origin point1={}, origin point2={}'.format(point1, point2))\n",
    "print('resize point1={}, resize point2={}'.format(scale_point1, scale_point2))\n",
    "\n",
    "# 畫圖\n",
    "cv.rectangle(img_final, scale_point1, scale_point2, (0, 0, 255), 3)\n",
    "\n",
    "while True:\n",
    "    cv.imshow('image', img_final)\n",
    "    k = cv.waitKey(0)\n",
    "    if k == 27:\n",
    "        cv.destroyAllWindows()\n",
    "        break"
   ]
  }
 ],
 "metadata": {
  "kernelspec": {
   "display_name": "Python 3",
   "language": "python",
   "name": "python3"
  },
  "language_info": {
   "codemirror_mode": {
    "name": "ipython",
    "version": 3
   },
   "file_extension": ".py",
   "mimetype": "text/x-python",
   "name": "python",
   "nbconvert_exporter": "python",
   "pygments_lexer": "ipython3",
   "version": "3.7.4"
  }
 },
 "nbformat": 4,
 "nbformat_minor": 2
}
