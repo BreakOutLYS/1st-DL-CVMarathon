{
 "cells": [
  {
   "cell_type": "code",
   "execution_count": 11,
   "metadata": {},
   "outputs": [],
   "source": [
    "import numpy as np\n",
    "import cv2 as cv\n",
    "\n",
    "img = cv.imread(\"data/lena.png\")\n",
    "\n",
    "## solution 1\n",
    "point1 = (60, 40)\n",
    "point2 = (420, 510)\n",
    "\n",
    "img_hsv = cv.cvtColor(img, cv.COLOR_BGR2HSV)\n",
    "img_hsv[..., -1] = cv.equalizeHist(img_hsv[..., -1])\n",
    "img_hsv_equal = cv.cvtColor(img_hsv, cv.COLOR_HSV2BGR)\n",
    "\n",
    "cv.rectangle(img_hsv_equal, point1, point2, (0, 0, 255), 3)\n",
    "\n",
    "img_hflip = img_hsv_equal[:,::-1,:]\n",
    "\n",
    "img_resize = cv.resize(img_hflip,None, fx=0.5, fy=0.5)\n",
    "\n",
    "\n",
    "while True:\n",
    "    \n",
    "    cv.imshow('lena',img_resize)\n",
    "    k = cv.waitKey(0)\n",
    "    if k == 27:\n",
    "        cv.destroyAllWindows()\n",
    "        break"
   ]
  },
  {
   "cell_type": "code",
   "execution_count": null,
   "metadata": {},
   "outputs": [],
   "source": [
    "\n",
    "\n",
    "# 透過四則運算計算鏡像後位置\n",
    "# 確保點的位置一樣是左上跟右下，所以交換鏡像後的 x 座標 (y 座標做水平鏡像後位置不變)\n",
    "point1[0] = 420\n",
    "point2[0] = 60\n",
    "\n",
    "\"\"\"\n",
    "縮放處理 (0.5 倍)\n",
    "\"\"\"\n",
    "fx = 0.5\n",
    "fy = 0.5\n",
    "resize_col = int(img_hw.shape[1]*fx)\n",
    "resize_row = int(img_hw.shape[0]*fy)\n",
    "\n",
    "# 建構 scale matrix\n",
    "M_scale = np.array()\n",
    "img_hw = cv2.warpAffine(...)"
   ]
  }
 ],
 "metadata": {
  "kernelspec": {
   "display_name": "Python 3",
   "language": "python",
   "name": "python3"
  },
  "language_info": {
   "codemirror_mode": {
    "name": "ipython",
    "version": 3
   },
   "file_extension": ".py",
   "mimetype": "text/x-python",
   "name": "python",
   "nbconvert_exporter": "python",
   "pygments_lexer": "ipython3",
   "version": "3.7.4"
  }
 },
 "nbformat": 4,
 "nbformat_minor": 2
}
